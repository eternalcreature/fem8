{
 "cells": [
  {
   "cell_type": "code",
   "execution_count": 1,
   "metadata": {},
   "outputs": [],
   "source": [
    "# generating simple mesh\n",
    "\n",
    "from mpi4py import MPI # message passing interface\n",
    "from dolfinx import mesh # creation, refining and marking of meshes\n",
    "\n",
    "domain = mesh.create_unit_square(MPI.COMM_WORLD, 8,8, mesh.CellType.quadrilateral)\n",
    "\n",
    "# domain parameters:\n",
    "# MPI - MPI-communicator. This is to specify how we would like the program to behave in parallel. \n",
    "# rest is obvious"
   ]
  },
  {
   "cell_type": "code",
   "execution_count": 2,
   "metadata": {},
   "outputs": [],
   "source": [
    "# defining the finite element space\n",
    "\n",
    "from dolfinx.fem import FunctionSpace\n",
    "\n",
    "V = FunctionSpace(domain, (\"CG\", 1))\n",
    "\n",
    "# second argument contains element type\n",
    "# 'CG' - continuous lagrange\n",
    "# 1 - element degree (liner here)\n"
   ]
  },
  {
   "cell_type": "markdown",
   "metadata": {},
   "source": [
    "Next step is to specify the boundary condition $u = u_D$ on $\\partial\\Omega_D$"
   ]
  },
  {
   "cell_type": "code",
   "execution_count": 3,
   "metadata": {},
   "outputs": [],
   "source": [
    "\n",
    "from dolfinx import fem\n",
    "\n",
    "# defining uD as a function in function space V\n",
    "uD = fem.Function(V)\n",
    "uD.interpolate(lambda x: 1 + x[0] ** 2 + 2 * x[1] ** 2)\n",
    "\n",
    "# applying the boundary values to all degrees of freedom \n",
    "# that are on the boundary of the discrete domain\n",
    "# by identifying the facets (line-segments) representing the outer boundary\n",
    "\n",
    "import numpy as np\n",
    "# Create facet to cell connectivity required to determine boundary facets\n",
    "tdim = domain.topology.dim # dimension of the mesh topology \n",
    "fdim = tdim - 1 # dimensionality of the facets (here - lines)\n",
    "domain.topology.create_connectivity(fdim, tdim)\n",
    "boundary_facets = mesh.exterior_facet_indices(domain.topology)"
   ]
  },
  {
   "cell_type": "code",
   "execution_count": 4,
   "metadata": {},
   "outputs": [],
   "source": [
    "# finding the local indices of the degrees of freedom of the facets\n",
    "\n",
    "boundary_dofs = fem.locate_dofs_topological(\n",
    "    V,  # function space\n",
    "    fdim,  # facet dimension\n",
    "    boundary_facets,\n",
    ")\n",
    "\n",
    "# creating the Dirichlet boundary condition\n",
    "\n",
    "bc = fem.dirichletbc(\n",
    "    uD,\n",
    "    boundary_dofs,\n",
    ")\n"
   ]
  },
  {
   "cell_type": "code",
   "execution_count": 5,
   "metadata": {},
   "outputs": [],
   "source": [
    "# The Unified Form Language (UFL) is a domain specific language\n",
    "# for declaration of finite element discretizations of variational forms.\n",
    "# More precisely, it defines a flexible interface for choosing finite element\n",
    "# spaces and defining expressions for weak forms in a notation\n",
    "# close to mathematical notation.\n",
    "import ufl\n",
    "\n",
    "# defining the trial and test function\n",
    "u = ufl.TrialFunction(V)\n",
    "v = ufl.TestFunction(V)\n"
   ]
  },
  {
   "cell_type": "code",
   "execution_count": 6,
   "metadata": {},
   "outputs": [],
   "source": [
    "# PETSc - Portable, Extensible Toolkit for Scientific Computation\n",
    "# petsc4py - Python bindings for PETSc\n",
    "from petsc4py.PETSc import ScalarType\n",
    "\n",
    "# Defining the source term\n",
    "f = fem.Constant(domain, ScalarType(-6))\n",
    "# fem.Constant - A constant with respect to a domain\n",
    "# ScalarType - Double-precision floating-point number type, \n",
    "# compatible with Python `float` and C ``double``"
   ]
  },
  {
   "cell_type": "code",
   "execution_count": 7,
   "metadata": {},
   "outputs": [],
   "source": [
    "# Defining the variational problem\n",
    "\n",
    "# bilinear form a\n",
    "a = ufl.dot(ufl.grad(u),ufl.grad(v)) * ufl.dx\n",
    "\n",
    "#linear form L\n",
    "L = f*v*ufl.dx\n",
    "\n",
    "# ufl.dot - UFL operator: \n",
    "# Take the dot product of *a* and *b*. \n",
    "# This won't take the complex conjugate of the second argument\n",
    "\n",
    "# ufl.grad -  UFL operator: \n",
    "# Take the gradient of *f*.\n",
    "# For convention see documentation"
   ]
  },
  {
   "cell_type": "code",
   "execution_count": 8,
   "metadata": {},
   "outputs": [],
   "source": [
    "# Forming and solving the linear system\n",
    "\n",
    "problem = fem.petsc.LinearProblem(\n",
    "    a,\n",
    "    L,\n",
    "    bcs=[bc],\n",
    "    petsc_options={ # petsc as linear algebra backend, parameters\n",
    "        \"ksp_type\": \"preonly\", # \n",
    "        \"pc_type\": \"lu\", #direct solver - LU factorization\n",
    "    },\n",
    ")\n",
    "\n",
    "uh = problem.solve()\n",
    "\n",
    "# https://petsc.org/main/docs/manual/ksp/?highlight=ksp#ksp-linear-system-solvers"
   ]
  },
  {
   "cell_type": "code",
   "execution_count": 9,
   "metadata": {},
   "outputs": [],
   "source": [
    "# Computing the error\n",
    "\n",
    "# interpolating the exact solution into P2 space\n",
    "V2 = fem.FunctionSpace(domain, (\"CG\", 2))\n",
    "# uex - u exact\n",
    "uex = fem.Function(V2)\n",
    "uex.interpolate(lambda x: 1 + x[0]**2 + 2 * x[1]**2)"
   ]
  },
  {
   "cell_type": "code",
   "execution_count": 10,
   "metadata": {},
   "outputs": [],
   "source": [
    "# computing the L2 norm of the error\n",
    "diff = uh - uex\n",
    "L2_error = fem.form(ufl.inner(diff, diff) * ufl.dx)\n",
    "error_local = fem.assemble_scalar(L2_error)\n",
    "error_L2 = np.sqrt(\n",
    "    domain.comm.allreduce(\n",
    "        error_local,\n",
    "        op=MPI.SUM,\n",
    "    )\n",
    ")\n"
   ]
  },
  {
   "cell_type": "code",
   "execution_count": 11,
   "metadata": {},
   "outputs": [
    {
     "name": "stdout",
     "output_type": "stream",
     "text": [
      "Error_L2 : 8.24e-03\n",
      "Error_max : 4.00e-15\n"
     ]
    }
   ],
   "source": [
    "# computing the maximum error at any degree of freedom\n",
    "\n",
    "error_max = np.max(np.abs(uD.x.array - uh.x.array))\n",
    "\n",
    "# Only print the error on one process\n",
    "if domain.comm.rank == 0:\n",
    "    print(f\"Error_L2 : {error_L2:.2e}\")\n",
    "    print(f\"Error_max : {error_max:.2e}\")"
   ]
  },
  {
   "cell_type": "code",
   "execution_count": 12,
   "metadata": {},
   "outputs": [],
   "source": [
    "from dolfinx import plot\n",
    "import pyvista as pv\n",
    "\n",
    "# dolfinx.plot - Support functions for plotting\n",
    "# pyvista - an interface to VTK - scientific Visualisation Toolkit\n",
    "\n",
    "#converting the mesh into the VTK format\n",
    "topology, cell_types, geometry = plot.create_vtk_mesh(\n",
    "    domain,\n",
    "    tdim,\n",
    ")\n",
    "\n",
    "grid = pv.UnstructuredGrid(\n",
    "    topology,\n",
    "    cell_types,\n",
    "    geometry,\n",
    ")"
   ]
  },
  {
   "cell_type": "code",
   "execution_count": 13,
   "metadata": {},
   "outputs": [],
   "source": [
    "pv.set_jupyter_backend(\"pythreejs\")"
   ]
  },
  {
   "cell_type": "code",
   "execution_count": 14,
   "metadata": {},
   "outputs": [
    {
     "name": "stderr",
     "output_type": "stream",
     "text": [
      "\u001b[0m\u001b[2m2022-08-14 14:20:07.264 (   0.790s) [        E407B000]    vtkExtractEdges.cxx:435   INFO| \u001b[0mExecuting edge extractor: points are renumbered\u001b[0m\n",
      "\u001b[0m\u001b[2m2022-08-14 14:20:07.264 (   0.791s) [        E407B000]    vtkExtractEdges.cxx:551   INFO| \u001b[0mCreated 144 edges\u001b[0m\n"
     ]
    },
    {
     "data": {
      "application/vnd.jupyter.widget-view+json": {
       "model_id": "dc5a1a7285814a349bdfffcd7a745833",
       "version_major": 2,
       "version_minor": 0
      },
      "text/plain": [
       "Renderer(camera=PerspectiveCamera(aspect=1.3333333333333333, children=(DirectionalLight(intensity=0.25, positi…"
      ]
     },
     "metadata": {},
     "output_type": "display_data"
    }
   ],
   "source": [
    "#plotting the mesh\n",
    "\n",
    "plotter = pv.Plotter()\n",
    "plotter.add_mesh(grid, show_edges=True)\n",
    "plotter.view_xy()\n",
    "plotter.show()"
   ]
  },
  {
   "cell_type": "code",
   "execution_count": 15,
   "metadata": {},
   "outputs": [
    {
     "name": "stderr",
     "output_type": "stream",
     "text": [
      "\u001b[0m\u001b[2m2022-08-14 14:20:07.791 (   1.317s) [        E407B000]    vtkExtractEdges.cxx:435   INFO| \u001b[0mExecuting edge extractor: points are renumbered\u001b[0m\n",
      "\u001b[0m\u001b[2m2022-08-14 14:20:07.791 (   1.318s) [        E407B000]    vtkExtractEdges.cxx:551   INFO| \u001b[0mCreated 144 edges\u001b[0m\n"
     ]
    },
    {
     "data": {
      "application/vnd.jupyter.widget-view+json": {
       "model_id": "b1e246e406b44ef5b5750d69a3c6503c",
       "version_major": 2,
       "version_minor": 0
      },
      "text/plain": [
       "Renderer(camera=PerspectiveCamera(aspect=1.3333333333333333, children=(DirectionalLight(intensity=0.25, positi…"
      ]
     },
     "metadata": {},
     "output_type": "display_data"
    }
   ],
   "source": [
    "# plotting a function\n",
    "\n",
    "# creating a mesh based on the DOF coordinates\n",
    "u_topology, u_cell_types, u_geometry = plot.create_vtk_mesh(V)\n",
    "\n",
    "u_grid = pv.UnstructuredGrid(\n",
    "    u_topology,\n",
    "    u_cell_types,\n",
    "    u_geometry,)\n",
    "\n",
    "u_grid.point_data[\"u\"] = uh.x.array.real\n",
    "u_grid.set_active_scalars(\"u\")\n",
    "u_plotter = pv.Plotter()\n",
    "u_plotter.add_mesh(u_grid, show_edges=True)\n",
    "u_plotter.view_xy()\n",
    "u_plotter.show()"
   ]
  },
  {
   "cell_type": "code",
   "execution_count": 16,
   "metadata": {},
   "outputs": [
    {
     "data": {
      "application/vnd.jupyter.widget-view+json": {
       "model_id": "7a36e01305fb4de7951e5d6ac428a6bc",
       "version_major": 2,
       "version_minor": 0
      },
      "text/plain": [
       "AppLayout(children=(VBox(children=(HTML(value='<h3>u</h3>'), Dropdown(description='Colormap:', options={'BrBG'…"
      ]
     },
     "metadata": {},
     "output_type": "display_data"
    }
   ],
   "source": [
    "# ipygany backend\n",
    "\n",
    "warped = u_grid.warp_by_scalar()\n",
    "plotter2 = pv.Plotter()\n",
    "plotter2.add_mesh(warped, show_edges=True, show_scalar_bar=True)\n",
    "plotter2.show(jupyter_backend=\"ipygany\")"
   ]
  },
  {
   "cell_type": "code",
   "execution_count": 17,
   "metadata": {},
   "outputs": [],
   "source": [
    "##############################################\n",
    "#\n",
    "#\n",
    "#\n",
    "# END OF TUTORIAL\n",
    "#\n",
    "#\n",
    "#\n",
    "##############################################"
   ]
  },
  {
   "cell_type": "code",
   "execution_count": 18,
   "metadata": {},
   "outputs": [],
   "source": [
    "# Now applying the entire process to different geometries to reinforce the learning ^_^"
   ]
  },
  {
   "cell_type": "code",
   "execution_count": 19,
   "metadata": {},
   "outputs": [],
   "source": [
    "def get_function_space(domain):\n",
    "    return FunctionSpace(domain, (\"CG\", 1))\n",
    "\n",
    "\n",
    "def get_boundary(V):\n",
    "    uD = fem.Function(V)\n",
    "    uD.interpolate(lambda x: 1 + x[0] ** 2 + 2 * x[1] ** 2)\n",
    "    return uD\n",
    "\n",
    "\n",
    "def get_boundary_facets(domain, fdim, tdim):\n",
    "    domain.topology.create_connectivity(fdim, tdim)\n",
    "    return mesh.exterior_facet_indices(domain.topology)\n",
    "\n",
    "\n",
    "def compute_error(uh, uD):\n",
    "    V2 = fem.FunctionSpace(domain, (\"CG\", 2))\n",
    "    uex = fem.Function(V2)\n",
    "    uex.interpolate(lambda x: 1 + x[0] ** 2 + 2 * x[1] ** 2)\n",
    "    diff = uh - uex\n",
    "    L2_error = fem.form(ufl.inner(diff, diff) * ufl.dx)\n",
    "    error_local = fem.assemble_scalar(L2_error)\n",
    "    error_L2 = np.sqrt(domain.comm.allreduce(error_local, op=MPI.SUM))\n",
    "    error_max = np.max(np.abs(uD.x.array - uh.x.array))\n",
    "    # Only print the error on one process\n",
    "    if domain.comm.rank == 0:\n",
    "        print(f\"Error_L2 : {error_L2:.2e}\")\n",
    "        print(f\"Error_max : {error_max:.2e}\")\n",
    "\n",
    "\n",
    "def solve_problem(domain):\n",
    "    V = get_function_space(domain)\n",
    "    uD = get_boundary(V)\n",
    "    tdim = domain.topology.dim\n",
    "    fdim = tdim - 1\n",
    "    boundary_facets = get_boundary_facets(domain, fdim, tdim)\n",
    "    boundary_dofs = fem.locate_dofs_topological(V, fdim, boundary_facets)\n",
    "    bc = fem.dirichletbc(uD, boundary_dofs)\n",
    "    u = ufl.TrialFunction(V)\n",
    "    v = ufl.TestFunction(V)\n",
    "    f = fem.Constant(domain, ScalarType(-6))\n",
    "    a = ufl.dot(ufl.grad(u), ufl.grad(v)) * ufl.dx\n",
    "    L = f * v * ufl.dx\n",
    "    problem = fem.petsc.LinearProblem(\n",
    "        a, L, bcs=[bc], petsc_options={\"ksp_type\": \"preonly\", \"pc_type\": \"lu\"}\n",
    "    )\n",
    "    uh = problem.solve()\n",
    "    compute_error(uh, uD)\n",
    "    return uh\n",
    "\n",
    "\n",
    "def visualize_solution(domain, uh):\n",
    "    V = get_function_space(domain)\n",
    "    u_topology, u_cell_types, u_geometry = plot.create_vtk_mesh(V)\n",
    "    u_grid = pv.UnstructuredGrid(u_topology, u_cell_types, u_geometry)\n",
    "    u_grid.point_data[\"u\"] = uh.x.array.real\n",
    "    u_grid.set_active_scalars(\"u\")\n",
    "    warped = u_grid.warp_by_scalar()\n",
    "    u_plotter = pv.Plotter()\n",
    "    u_plotter.add_mesh(warped, show_edges=True)\n",
    "    u_plotter.view_xy()\n",
    "    u_plotter.show(jupyter_backend=\"pythreejs\")\n"
   ]
  },
  {
   "cell_type": "code",
   "execution_count": 23,
   "metadata": {},
   "outputs": [
    {
     "name": "stdout",
     "output_type": "stream",
     "text": [
      "Error_L2 : 5.27e-05\n",
      "Error_max : 7.64e-14\n"
     ]
    },
    {
     "name": "stderr",
     "output_type": "stream",
     "text": [
      "\u001b[0m\u001b[2m2022-08-14 14:21:10.383 (  63.910s) [        E407B000]    vtkExtractEdges.cxx:435   INFO| \u001b[0mExecuting edge extractor: points are renumbered\u001b[0m\n",
      "\u001b[0m\u001b[2m2022-08-14 14:21:10.395 (  63.921s) [        E407B000]    vtkExtractEdges.cxx:551   INFO| \u001b[0mCreated 20200 edges\u001b[0m\n"
     ]
    },
    {
     "data": {
      "application/vnd.jupyter.widget-view+json": {
       "model_id": "ab60210af3e6401b8d80c84b5609f733",
       "version_major": 2,
       "version_minor": 0
      },
      "text/plain": [
       "Renderer(camera=PerspectiveCamera(aspect=1.3333333333333333, children=(DirectionalLight(intensity=0.25, positi…"
      ]
     },
     "metadata": {},
     "output_type": "display_data"
    }
   ],
   "source": [
    "domain = mesh.create_rectangle(\n",
    "    MPI.COMM_WORLD, [[0, 0], [1,1]], [100, 100], mesh.CellType.quadrilateral\n",
    ")\n",
    "uh = solve_problem(domain)\n",
    "visualize_solution(domain,uh)\n"
   ]
  },
  {
   "cell_type": "code",
   "execution_count": 21,
   "metadata": {},
   "outputs": [
    {
     "name": "stdout",
     "output_type": "stream",
     "text": [
      "Error_L2 : 5.27e-03\n",
      "Error_max : 3.11e-15\n"
     ]
    }
   ],
   "source": [
    "domain = mesh.create_rectangle(\n",
    "    MPI.COMM_WORLD, [[0, 0], [1,1]], [10, 10], mesh.CellType.quadrilateral\n",
    ")\n",
    "uh = solve_problem(domain)\n"
   ]
  },
  {
   "cell_type": "code",
   "execution_count": null,
   "metadata": {},
   "outputs": [],
   "source": []
  }
 ],
 "metadata": {
  "kernelspec": {
   "display_name": "Python 3.10.4 64-bit",
   "language": "python",
   "name": "python3"
  },
  "language_info": {
   "codemirror_mode": {
    "name": "ipython",
    "version": 3
   },
   "file_extension": ".py",
   "mimetype": "text/x-python",
   "name": "python",
   "nbconvert_exporter": "python",
   "pygments_lexer": "ipython3",
   "version": "3.10.4"
  },
  "orig_nbformat": 4,
  "vscode": {
   "interpreter": {
    "hash": "916dbcbb3f70747c44a77c7bcd40155683ae19c65e1c03b4aa3499c5328201f1"
   }
  }
 },
 "nbformat": 4,
 "nbformat_minor": 2
}
